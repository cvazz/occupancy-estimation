{
 "cells": [
  {
   "cell_type": "code",
   "execution_count": 1,
   "id": "94a337f2-8297-491a-a40f-8176ead75904",
   "metadata": {
    "tags": []
   },
   "outputs": [],
   "source": [
    "import os, sys\n",
    "\n",
    "import IPython.display as ipd\n",
    "\n",
    "path= '/Users/sbielfel/Nextcloud2/time_resolved/'\n",
    "sys.path.append(path)\n",
    "path= '/Users/sbielfel/Nextcloud2/phase_retrieval/algos/'\n",
    "sys.path.append(path)\n",
    "%load_ext autoreload\n",
    "%autoreload 2"
   ]
  },
  {
   "cell_type": "code",
   "execution_count": 2,
   "id": "c90fa099-5930-4daa-b39f-f832cd07cedc",
   "metadata": {
    "tags": []
   },
   "outputs": [
    {
     "name": "stdout",
     "output_type": "stream",
     "text": [
      "/Users/sbielfel/anaconda3/envs/fml/bin/python\n"
     ]
    }
   ],
   "source": [
    "print(sys.executable)"
   ]
  },
  {
   "cell_type": "code",
   "execution_count": 3,
   "id": "54d0d356-d8a3-4ada-b0e6-19838c4fa740",
   "metadata": {
    "tags": []
   },
   "outputs": [],
   "source": [
    "# import h5py\n",
    "import meteor\n",
    "import reciprocalspaceship as rs\n",
    "import numpy as np\n",
    "import gemmi \n",
    "import ipywidgets as widgets\n",
    "from scipy.ndimage import gaussian_filter\n",
    "# from output_eval import *"
   ]
  },
  {
   "cell_type": "code",
   "execution_count": 4,
   "id": "6b555762-7a5c-4d06-92ad-1d6666659dd6",
   "metadata": {
    "tags": []
   },
   "outputs": [],
   "source": [
    "from occupancy import *\n",
    "from plotting3d import *"
   ]
  },
  {
   "cell_type": "code",
   "execution_count": 5,
   "id": "e4b2cbad-e7d4-4fe9-b9d2-0ee0fe2f6b89",
   "metadata": {
    "tags": []
   },
   "outputs": [],
   "source": [
    "%matplotlib ipympl\n",
    "%matplotlib inline"
   ]
  },
  {
   "cell_type": "code",
   "execution_count": 6,
   "id": "a903c594-1201-4263-a9fa-085c75a35acb",
   "metadata": {
    "tags": []
   },
   "outputs": [],
   "source": [
    "variant = \"basic\"\n",
    "noise_level=0\n",
    "plotfolder = \"./plots/\""
   ]
  },
  {
   "cell_type": "markdown",
   "id": "1463d75e-3d6e-4831-a7a7-56940be1b2fa",
   "metadata": {},
   "source": [
    "# Remarks\n",
    "Rework of previous dataset. The analysis is highly similar compared to the other notebook. I created gifs for the more important 3d plots. There are no major surprises compared to the other notebook (anymore)."
   ]
  },
  {
   "cell_type": "code",
   "execution_count": 7,
   "id": "8a8ff04d",
   "metadata": {
    "tags": []
   },
   "outputs": [
    {
     "ename": "NameError",
     "evalue": "name 'dataloc' is not defined",
     "output_type": "error",
     "traceback": [
      "\u001b[31m---------------------------------------------------------------------------\u001b[39m",
      "\u001b[31mNameError\u001b[39m                                 Traceback (most recent call last)",
      "\u001b[36mCell\u001b[39m\u001b[36m \u001b[39m\u001b[32mIn[7]\u001b[39m\u001b[32m, line 4\u001b[39m\n\u001b[32m      2\u001b[39m name_dark = \u001b[33m\"\u001b[39m\u001b[33mk.mtz\u001b[39m\u001b[33m\"\u001b[39m\n\u001b[32m      3\u001b[39m name_light = \u001b[33m\"\u001b[39m\u001b[33mon.mtz\u001b[39m\u001b[33m\"\u001b[39m\n\u001b[32m----> \u001b[39m\u001b[32m4\u001b[39m ds_light = rs.read_mtz(\u001b[43mdataloc\u001b[49m+name_light)\n\u001b[32m      5\u001b[39m ds_dark = rs.read_mtz(dataloc+name_dark)\n",
      "\u001b[31mNameError\u001b[39m: name 'dataloc' is not defined"
     ]
    }
   ],
   "source": [
    "\n",
    "mtzloc = \"X8_test_1\"\n",
    "name_dark = \"k.mtz\"\n",
    "name_light = \"on.mtz\"\n",
    "ds_light = rs.read_mtz(dataloc+name_light)\n",
    "ds_dark = rs.read_mtz(dataloc+name_dark)"
   ]
  },
  {
   "cell_type": "code",
   "execution_count": null,
   "id": "43ee97b0-9d4f-49c5-8db8-2b564806e3ad",
   "metadata": {},
   "outputs": [],
   "source": []
  },
  {
   "cell_type": "code",
   "execution_count": null,
   "id": "380dc938-94cb-4a98-8885-ac4f1f142f12",
   "metadata": {
    "tags": []
   },
   "outputs": [],
   "source": [
    "\n",
    "dataloc = \"../synthetic_cistrans/\"\n",
    "match variant:\n",
    "    case \"basic\":\n",
    "        name_dark = \"trans_sf.mtz\"\n",
    "        name_light = \"100ps_sf.mtz\"\n",
    "        alpha = 0.27\n",
    "    case \"basic-alt\":\n",
    "        name_dark = \"trans_sf.mtz\"\n",
    "        name_light = \"100ps_sfV2.mtz\"\n",
    "        alpha = 0.27\n",
    "    case \"noise\":\n",
    "        name_light = \"100ps_withSIGFC_amplitudenoise.mtz\"\n",
    "        name_dark = \"trans_withSIGFC_amplitudenoise.mtz\"\n",
    "        alpha = 0.27\n",
    "ds_light = rs.read_mtz(dataloc+name_light)\n",
    "ds_dark = rs.read_mtz(dataloc+name_dark)"
   ]
  },
  {
   "cell_type": "code",
   "execution_count": null,
   "id": "bcb04759-7825-4fb8-8682-40aa8420954b",
   "metadata": {
    "tags": []
   },
   "outputs": [],
   "source": [
    "ds_dark[\"sf\"] = ds_dark.to_structurefactor(\"FC\", \"PHIC\")\n",
    "f_dark = ds_dark.to_reciprocal_grid(\"sf\")\n",
    "ds_light[\"sf\"] = ds_light.to_structurefactor(\"FC\", \"PHIC\")\n",
    "f_light = ds_light.to_reciprocal_grid(\"sf\")\n",
    "delta_fa_abs = np.abs(f_light)-np.abs(f_dark)"
   ]
  },
  {
   "cell_type": "code",
   "execution_count": null,
   "id": "7fd74653-d424-4889-869e-9997ae792e51",
   "metadata": {
    "tags": []
   },
   "outputs": [],
   "source": [
    "# flipped compared to normal order!!!\n",
    "# np.flip(obj, (0,1,2)) to adjust\n",
    "f_light_0 = np.abs(f_light)*np.exp(1j*np.angle(f_dark))\n",
    "obj1 = np.real(np.fft.ifftn(f_light_0))\n",
    "obj0 = np.real(np.fft.ifftn(f_dark))\n",
    "\n",
    "obj_mix = alpha*obj1+(1-alpha)*obj0\n",
    "delta_obj = obj1-obj0\n",
    "\n",
    "mask_pks = gaussian_filter(np.abs(delta_obj),1)>0.01\n",
    "plt.figure()\n",
    "plt.imshow(mask_pks[7])\n",
    "plt.title(\"slice of mask\")\n",
    "plt.show()"
   ]
  },
  {
   "cell_type": "code",
   "execution_count": null,
   "id": "3ba9121c-79f8-4158-9022-da38b8921f07",
   "metadata": {
    "tags": []
   },
   "outputs": [],
   "source": [
    "pdbname_light = dataloc+\"100ps.pdb\"\n",
    "struc_light = gemmi.read_structure(pdbname_light)\n",
    "pdbname_dark = dataloc + \"trans.pdb\"\n",
    "struc_dark = gemmi.read_structure(pdbname_dark)\n",
    "\n",
    "pos_list = np.array([(rca.atom.pos).tolist()   for rca in struc_light[0].all()])\n",
    "for idx in range(3):\n",
    "    diff = np.max(pos_list[:,idx])-np.min(pos_list[:,idx])\n"
   ]
  },
  {
   "cell_type": "code",
   "execution_count": null,
   "id": "639623c4-6e3e-4908-9e9a-b4b035d97a93",
   "metadata": {
    "tags": []
   },
   "outputs": [],
   "source": [
    "plt.close(\"all\")\n",
    "fig, axs = plt.subplots(2,2)\n",
    "ax =axs[0,0]\n",
    "bins = np.linspace(0.005,1.005,101)\n",
    "for ax in axs.flat:\n",
    "    ax.axvline(alpha,color=\"k\")\n",
    "    ax.axvline(1-alpha,color=\"k\")\n",
    "    ax.set_ylim(0,50)\n",
    "    \n",
    "ax =axs[0,0]\n",
    "ax.hist([np.round(x.atom.occ,2) for x in struc_dark[0].all()], bins = bins)\n",
    "ax.set_xlim(.1,.3)\n",
    "ax.set_ylabel(\"Freq (trans.pdb)\")\n",
    "\n",
    "ax =axs[1,0]\n",
    "ax.hist([np.round(x.atom.occ,2) for x in struc_light[0].all()], bins = bins)\n",
    "ax.set_xlim(.1,.3)\n",
    "ax.set_ylabel(\"Freq (100ps.pdb)\")\n",
    "ax.set_xlabel(\"Occupancy\")\n",
    "\n",
    "ax =axs[0,1]\n",
    "ax.hist([np.round(x.atom.occ,2) for x in struc_dark[0].all()], bins = bins)\n",
    "ax.set_xlim(.7,.9)\n",
    "\n",
    "ax =axs[1,1]\n",
    "ax.hist([np.round(x.atom.occ,2) for x in struc_light[0].all()], bins = bins)\n",
    "ax.set_xlim(.7,.9)\n",
    "ax.set_xlabel(\"Occupancy\")\n"
   ]
  },
  {
   "cell_type": "markdown",
   "id": "c1359853-58ec-458f-b3ee-e0fc88a1f3ed",
   "metadata": {},
   "source": [
    "basically I am just checking that the occupancies are where you promised them to be - and that nothing else occupies this occupancy range."
   ]
  },
  {
   "cell_type": "code",
   "execution_count": null,
   "id": "f3c1a1dd-aa55-45e0-bb2c-3016f4a80786",
   "metadata": {
    "tags": []
   },
   "outputs": [],
   "source": [
    "\n",
    "from plotting3d import get_pos_from_pdb\n",
    "frac_list, occ_mask=get_pos_from_pdb(struc_light, search_occ=0.27)\n",
    "%matplotlib widget\n",
    "if True:\n",
    "    mtz_comp(frac_list,occ_mask,  np.flip(obj1-obj0,(0,1,2)),extent=[0,1,1,0]) \n",
    "else:\n",
    "    mtz_comp(frac_list,occ_mask,  np.flip(obj1,(0,1,2)),extent=[0,1,1,0], gif_name=\"gifs/match_pdbmtz.gif\")\n",
    "\n"
   ]
  },
  {
   "cell_type": "code",
   "execution_count": null,
   "id": "f5c2db1e-bd90-4c27-9827-c7236ee7988c",
   "metadata": {
    "tags": []
   },
   "outputs": [],
   "source": [
    "# slice_3d(np.flip(obj1-obj0,(0,1,2))[32:58, 50:76, 65:90])"
   ]
  },
  {
   "cell_type": "code",
   "execution_count": null,
   "id": "e7364808-c9ac-4000-82a4-41d777f1eb9d",
   "metadata": {
    "tags": []
   },
   "outputs": [],
   "source": [
    "obj1.shape"
   ]
  },
  {
   "cell_type": "markdown",
   "id": "4fc5ebff-08cb-40cb-8130-1f9188fcecf8",
   "metadata": {},
   "source": [
    "Making sure that I understand the data and a way to find alternative conformations"
   ]
  },
  {
   "cell_type": "code",
   "execution_count": null,
   "id": "5842e519-1e80-42ad-85a1-37cd8550c35f",
   "metadata": {
    "tags": []
   },
   "outputs": [],
   "source": [
    "from scipy import stats\n",
    "def make_blurred(frac_pos, grid_shape,radius= .01):\n",
    "    frac_pos = frac_pos.T\n",
    "    X, Y, Z = np.mgrid[\n",
    "        0 : 1 : grid_shape[0] * 1j,\n",
    "        0 : 1 : grid_shape[1] * 1j,\n",
    "        0 : 1 : grid_shape[2] * 1j,\n",
    "    ]\n",
    "    grid = np.vstack([X.ravel(), Y.ravel(), Z.ravel()])\n",
    "\n",
    "    kernel = stats.gaussian_kde(frac_pos, radius)\n",
    "    density = np.reshape(kernel(grid).T, X.shape)\n",
    "    return density\n",
    "out = make_blurred(frac_list[occ_mask>0],obj1.shape, radius=0.1)\n",
    "\n",
    "vv = \"mtz_style\"\n",
    "match vv:\n",
    "    case \"normal\":\n",
    "        extent = [0,1,1,0]\n",
    "        mtz_comp(frac_list,occ_mask, out, extent=extent)\n",
    "    case \"mtz_style\":\n",
    "        extent = [1,0,0,1]\n",
    "        out = np.flip(out,(0,1,2))\n",
    "        mtz_comp(frac_list,occ_mask, out[::-1], extent=extent)\n"
   ]
  },
  {
   "cell_type": "markdown",
   "id": "8eddc8d9-3273-4b6f-817d-dc7ebd1227c5",
   "metadata": {},
   "source": [
    "curiously the ordering was a bit fidely."
   ]
  },
  {
   "cell_type": "markdown",
   "id": "db35d968-df8c-4044-b37b-707fd49ce713",
   "metadata": {
    "tags": []
   },
   "source": [
    "## Angle Approximation Check\n",
    "Should be lower than 0.25"
   ]
  },
  {
   "cell_type": "code",
   "execution_count": null,
   "id": "75abd9e1-4484-4321-bd57-c161389d22f3",
   "metadata": {
    "tags": []
   },
   "outputs": [],
   "source": [
    "np.round(np.sum(np.abs(delta_fa_abs)) / np.sum(np.abs(f_dark)),3)"
   ]
  },
  {
   "cell_type": "markdown",
   "id": "a7d0e224-16c6-4c2c-b1fe-f4537dd64194",
   "metadata": {},
   "source": [
    "# Start of the actual analysis"
   ]
  },
  {
   "cell_type": "code",
   "execution_count": null,
   "id": "bab6c7a5-1a77-43e4-a20a-d0ff618ea726",
   "metadata": {
    "tags": []
   },
   "outputs": [],
   "source": [
    "alpha_xtrs = np.linspace(0,1,20)+1e-10\n",
    "f_xtrs = make_f_xtr(alpha_xtrs, f_dark, f_light, np.angle(f_dark),  version=2, noise_level = 0)\n",
    "corr_x8 = x8_inspired(np.abs(f_dark),np.abs(f_light), np.abs(f_xtrs))"
   ]
  },
  {
   "cell_type": "markdown",
   "id": "ec80339d-14f8-4dbf-a383-b273e4a1cb58",
   "metadata": {},
   "source": [
    "Easier than my above attempt is of course to just calculate the difference of the two phased objects."
   ]
  },
  {
   "cell_type": "code",
   "execution_count": null,
   "id": "c610b18f-00df-44e9-938b-b4a5aeed3b94",
   "metadata": {
    "tags": []
   },
   "outputs": [],
   "source": [
    "mask_pks_filt = gaussian_filter(np.array(mask_pks,float), 1)>.2\n",
    "%matplotlib inline\n",
    "slice_3d(mask_pks_filt+np.array(mask_pks,float))"
   ]
  },
  {
   "cell_type": "code",
   "execution_count": null,
   "id": "a14dfe86-8a2a-4c94-a1be-797e808d5c77",
   "metadata": {
    "tags": []
   },
   "outputs": [],
   "source": [
    "    \n",
    "alphax = 0.27\n",
    "alpha_xtrs_vis = np.array([1, alphax*2, alphax, alphax/2,0.19, 0.01])\n",
    "f_xtrs = make_f_xtr(alpha_xtrs_vis, f_dark, f_light, np.angle(f_dark),  version=1, noise_level=0)\n",
    "dens_xtrs, neg_sum = marius(f_xtrs)\n",
    "    \n",
    "from plotting3d import show_xtrs\n",
    "%matplotlib inline\n",
    "anim = show_xtrs(dens_xtrs, alpha_xtrs_vis, obj0, alpha, version=\"only\", variant=variant, make_gif=False)\n"
   ]
  },
  {
   "cell_type": "code",
   "execution_count": null,
   "id": "4ea81bab-17ec-4d40-8603-42c981c79549",
   "metadata": {
    "tags": []
   },
   "outputs": [],
   "source": [
    "%matplotlib inline\n",
    "if False:\n",
    "    for version in [\"only\", \"diff\", \"diffnorm\" , \"diffxtr\"]:\n",
    "        anim = show_xtrs(dens_xtrs, alpha_xtrs_vis, obj0, alpha, \n",
    "                         version=version, variant=variant, make_gif=True)\n",
    "        \n"
   ]
  },
  {
   "cell_type": "code",
   "execution_count": null,
   "id": "001980ac-a02d-4f1c-b47d-39d0f15a3c65",
   "metadata": {
    "tags": []
   },
   "outputs": [],
   "source": [
    "def show_hist():\n",
    "    alphax = 0.27\n",
    "    alpha_xtrs_vis = np.array([1, alphax*2, 0.3, alphax, alphax/2,alphax/4])\n",
    "    f_xtrs = make_f_xtr(alpha_xtrs_vis, f_dark, f_light, np.angle(f_dark),  version=1, noise_level=0)\n",
    "    dens_xtrs, neg_sum = marius(f_xtrs)\n",
    "    fig, axs = plt.subplots(2,3, figsize=(8,4),constrained_layout=True)\n",
    "    ims = []\n",
    "    for ax, alpha_xtr, arr in zip(axs.flat, alpha_xtrs_vis,dens_xtrs):\n",
    "        raw = [r\"$\\alpha_{xtr}$\",\n",
    "               r\"$\\alpha_t$\"]\n",
    "        tit = f\"{raw[0]}: {alpha_xtr:.2f}\"\n",
    "        ax.set_title(tit)\n",
    "        ax.set_ylim(0,12)\n",
    "        ax.set_xlim(-1,1)\n",
    "        bins = np.linspace(np.min(arr), np.max(arr), 30)\n",
    "        bins = np.linspace(np.min(dens_xtrs), np.max(dens_xtrs), 100)\n",
    "        arr = arr-obj0\n",
    "        ax.hist(arr[mask_pks],color=\"green\", alpha=0.7, density=True, bins= bins, label=\"Areas of Change\")\n",
    "        ax.hist(arr[~mask_pks], color = \"blue\", alpha=0.7, density=True, bins= bins, label = \"Other areas\")\n",
    "        # fig.suptitle(title + f\" z={f0}/{imlen-1}\", fontsize=16)    \n",
    "    axs[0,0].legend()\n",
    "    for ax in [axs[0,0],axs[1,0]]:\n",
    "        ax.set_ylabel(\"Value density\")\n",
    "    for ax in axs[1]:\n",
    "        ax.set_xlabel(\"Value distribution\")\n",
    "    fig.suptitle(\"Value Distribution $F_{xtr}$ - Area of Change vs. overall \\t\"\n",
    "                 + r\"$\\alpha_{true}$=\"+str(alpha))\n",
    "show_hist()\n"
   ]
  },
  {
   "cell_type": "code",
   "execution_count": null,
   "id": "c62885e9-406d-4d3a-8e58-5523d6e1a1fe",
   "metadata": {},
   "outputs": [],
   "source": [
    "alpha_invs = (np.arange(0,20)+1e-10)\n",
    "alpha_xtrs = 2/alpha_invs\n",
    "f_xtrs = make_f_xtr(alpha_xtrs, f_dark, f_light, np.angle(f_dark),  version=1, noise_level = 0)\n",
    "dens_xtrs, neg_sum = marius(f_xtrs)\n"
   ]
  },
  {
   "cell_type": "code",
   "execution_count": null,
   "id": "19b7e538-1e25-44a6-a946-f766bcac7ce2",
   "metadata": {
    "tags": []
   },
   "outputs": [],
   "source": [
    "from scipy import stats\n",
    "n_largest = 3\n",
    "n_more = 9\n",
    "m1 = alpha_invs>alpha_invs[-n_largest]\n",
    "m2 = alpha_invs<alpha_invs[n_largest]\n",
    "res_1 = stats.linregress(alpha_invs[m1], -neg_sum[m1])\n",
    "res_2 = stats.linregress(alpha_invs[m2], -neg_sum[m2])\n",
    "m11 = alpha_invs>alpha_invs[-n_more]\n",
    "m22 = alpha_invs<alpha_invs[n_more]\n",
    "res_11 = stats.linregress(alpha_invs[m11], -neg_sum[m11])\n",
    "res_22 = stats.linregress(alpha_invs[m22], -neg_sum[m22])\n",
    "\n",
    "alpha_line = np.linspace(np.min(alpha_invs), np.max(alpha_invs),5,)\n",
    "\n",
    "fig = plt.figure()\n",
    "plt.plot(alpha_invs,neg_sum*-1, \"x\",  label=\"Datapoint\")\n",
    "plt.axvline(1/alpha,c=\"k\",linestyle=\"--\", label=\"1/alpha_true\")\n",
    "plt.axvline(2/alpha,c=\"k\",linestyle=\"-.\", label=\"2/alpha_true\")\n",
    "\n",
    "\n",
    "plt.plot(alpha_line, res_1.intercept+res_1.slope*alpha_line,c=\"red\",linestyle=\"--\", label=f\"Fit (largest {n_largest})\")\n",
    "plt.plot(alpha_line, res_2.intercept+res_2.slope*alpha_line, c=\"darkgreen\",linestyle=\"--\",label=f\"Fit (smallest {n_largest})\")\n",
    "plt.plot(alpha_line, res_11.intercept+res_11.slope*alpha_line,c=\"purple\",linestyle=\"--\", label=f\"Fit (largest  {n_more})\")\n",
    "# plt.plot(alpha_line, res_22.intercept+res_22.slope*alpha_line, c=\"purple\",linestyle=\"--\")\n",
    "plt.legend()\n",
    "print(alpha)\n",
    "plt.xlabel(\"2/Alpha\")\n",
    "plt.ylabel(r\"$\\sum$ |neg. density|\")\n",
    "plt.title(\"Negative Sum Explosion\")\n",
    "from plotting3d import fname_variant\n",
    "loc = plotfolder+fname_variant(variant)\n",
    "fig.savefig(loc + \"_negsumexplosion.png\")\n"
   ]
  },
  {
   "cell_type": "markdown",
   "id": "eff570f9-2f73-4545-bb9c-9ac3c9d754f7",
   "metadata": {
    "tags": []
   },
   "source": [
    "interestingly, the results for this are better/more consistent with noise rather than without."
   ]
  },
  {
   "cell_type": "code",
   "execution_count": null,
   "id": "895a2e6e-4c2d-4d5e-b6df-87ebb9c5f33f",
   "metadata": {
    "tags": []
   },
   "outputs": [],
   "source": [
    "# slice_3d(np.flip(obj1-obj0,(0,1,2))[32:58, 50:76, 65:90])\n",
    "intersection = (res_2.intercept-res_1.intercept) / (res_1.slope-res_2.slope)\n",
    "alpha_intersect = 2/intersection\n",
    "intersection = (res_2.intercept-res_11.intercept) / (res_11.slope-res_2.slope)\n",
    "alpha_intersect2 = 2/intersection\n",
    "\n",
    "alpha_xtrs_vis = np.array([alpha ,alpha_intersect, alpha_intersect2])\n",
    "f_xtrs = make_f_xtr(alpha_xtrs_vis, f_dark, f_light, np.angle(f_dark),  version=1, noise_level=0)\n",
    "dens_xtrs, neg_sum = marius(f_xtrs)\n",
    "print(alpha_xtrs_vis)\n",
    "plt.close('all')\n",
    "%matplotlib widget\n",
    "anim = direct_comp(\n",
    "    dens_xtrs,\n",
    "    alpha_xtrs_vis,\n",
    "    obj0,\n",
    "    obj1,\n",
    "    version=\"only\",\n",
    "    idx=48,\n",
    "    make_gif=False\n",
    ") "
   ]
  },
  {
   "cell_type": "code",
   "execution_count": null,
   "id": "65870dbb-4feb-4e2f-be05-4c4f78e58fa7",
   "metadata": {
    "tags": []
   },
   "outputs": [],
   "source": [
    "from occupancy import  x8_density_map_fdiff_norm\n",
    "\n",
    "alpha_xtrs = np.linspace(5e-2,1,100 )\n",
    "\n",
    "f_xtrs = make_f_xtr(alpha_xtrs, f_dark, f_light, np.angle(f_dark),  version=1, noise_level=0)\n",
    "peak_sum, real_CC = x8_density_map_f1(f_xtrs, mask_pks, obj0, delta_obj)\n",
    "peak_sum_diff, real_CC_diff = x8_density_map_fdiff(f_xtrs, mask_pks, obj0, delta_obj)\n",
    "peak_sum_diffnorm, real_CC_diffnorm = x8_density_map_fdiff_norm(f_xtrs, mask_pks, obj0, delta_obj)"
   ]
  },
  {
   "cell_type": "code",
   "execution_count": null,
   "id": "7fa6c1c1-ea0b-434d-b658-d28126685c7b",
   "metadata": {
    "tags": []
   },
   "outputs": [],
   "source": [
    "fig, axs = plt.subplots(2,2, figsize=(8,8),tight_layout=True)\n",
    "for ax in axs[0] :\n",
    "    ax.set_ylabel(\"Ratio prominent over all peaks\")\n",
    "    ax.set_title(\"Difference Map Method\")\n",
    "    \n",
    "for ax in axs[:,0] :\n",
    "    ax.axvline(1/(alpha/2),c=\"k\", linestyle=\"-\", label=\"alpha_true/2\")\n",
    "    ax.axvline(1/alpha,c=\"k\", linestyle=\"-.\", label=\"alpha_true\")\n",
    "    ax.axvline(1/(alpha*2),c=\"k\", linestyle=\"--\", label=\"2*alpha_true\")\n",
    "    \n",
    "for ax in axs[:,1] :\n",
    "    ax.axvline(alpha/2,c=\"k\", linestyle=\"-\", label=\"alpha_true/2\")\n",
    "    ax.axvline(alpha,c=\"k\", linestyle=\"-.\", label=\"alpha_true\")\n",
    "    ax.axvline(alpha*2,c=\"k\", linestyle=\"--\", label=\"2*alpha_true\")\n",
    "    \n",
    "for ax in axs[1] :\n",
    "    ax.axhline(0,c=\"k\", linewidth=.5, )\n",
    "    ax.set_ylabel(\"Cross Correlation\")\n",
    "    ax.set_xlabel(\"Alphas\")\n",
    "    ax.set_title(\"Difference Map (CC) Method\")\n",
    "\n",
    "ax = axs[0,0]\n",
    "ax.plot(1/alpha_xtrs,peak_sum, label=r\"F_xtr\",color=\"g\")\n",
    "ax.plot(1/alpha_xtrs,peak_sum_diff, label=r\"F_xtr-F0\",color=\"brown\")\n",
    "ax.plot(1/alpha_xtrs,peak_sum_diffnorm, label=r\"norm(F_xtr)-norm(F0)\",color=\"b\")\n",
    "ax.legend()\n",
    "\n",
    "ax = axs[0,1]\n",
    "ax.plot(alpha_xtrs,peak_sum, label=r\"$\\phi_{0}$\",color=\"g\")\n",
    "ax.plot(alpha_xtrs,peak_sum_diff, label=r\"$\\phi_{0}$\",color=\"brown\")\n",
    "ax.plot(alpha_xtrs,peak_sum_diffnorm, label=r\"norm(F_xtr)-norm(F0)\",color=\"b\")\n",
    "\n",
    "ax = axs[1,0]\n",
    "ax.plot(1/alpha_xtrs,real_CC, label=r\"$\\phi_{0}$\",color=\"g\")\n",
    "ax.plot(1/alpha_xtrs,real_CC_diff, label=r\"F_xtr-F0\",color=\"brown\")\n",
    "ax.plot(1/alpha_xtrs,real_CC_diffnorm, label=r\"norm: F_xtr-F0\",color=\"b\")\n",
    "ax.set_xlabel(\"1/occupancy\")\n",
    "\n",
    "ax = axs[1,1]\n",
    "ax.plot(alpha_xtrs,real_CC,  label=r\"F_xtr\"    ,    color=\"g\")\n",
    "ax.plot(alpha_xtrs,real_CC_diff, label=r\"F_xtr-F0\",color=\"brown\")\n",
    "ax.plot(alpha_xtrs,real_CC_diffnorm, label=r\"norm: F_xtr-F0\",color=\"b\")\n",
    "ax.set_xlabel(\"occupancy\")\n",
    "\n",
    "loc = plotfolder+fname_variant(variant)\n",
    "fig.savefig(loc + \"_differencemap.png\")"
   ]
  },
  {
   "cell_type": "markdown",
   "id": "ac3863c3-7c0a-4379-8f8c-60708c46b178",
   "metadata": {},
   "source": [
    "I think I said quite a bit about it in the previous text. Here I don't have much to add."
   ]
  },
  {
   "cell_type": "code",
   "execution_count": null,
   "id": "27f16d7d-b06c-4595-940a-b3f2e35c4849",
   "metadata": {},
   "outputs": [],
   "source": [
    "pk_val = alpha_xtrs[np.argmax(peak_sum_diffnorm)]\n",
    "pk_val\n",
    "\n",
    "alpha_xtrs_vis = np.array([alpha,pk_val])\n",
    "f_xtrs = make_f_xtr(alpha_xtrs_vis, f_dark, f_light, np.angle(f_dark),  version=1, noise_level=0)\n",
    "dens_xtrs, neg_sum = marius(f_xtrs)\n",
    "\n",
    "direct_comp(\n",
    "    dens_xtrs,\n",
    "    alpha_xtrs_vis,\n",
    "    obj0,\n",
    "    obj1,\n",
    "    version=\"diffxtr\",\n",
    "    variant=variant,\n",
    "    # make_gif=True,\n",
    "    idx=48,\n",
    ") \n"
   ]
  },
  {
   "cell_type": "code",
   "execution_count": null,
   "id": "8c6168d5-8431-47e3-81c8-d5c1b9f32a93",
   "metadata": {},
   "outputs": [],
   "source": [
    "delta_obj = obj1-obj0\n",
    "strict = 0.02\n",
    "lax = 0.005\n",
    "mask_pks = gaussian_filter(np.abs(delta_obj),1)>0.01\n",
    "mask_pks_strict = gaussian_filter(np.abs(delta_obj),1)>strict\n",
    "mask_pks_lax = gaussian_filter(np.abs(delta_obj),1)>lax\n",
    "mask_pks_filt = gaussian_filter(np.array(mask_pks,float), 1)>.9\n",
    "mask_pks = np.abs(delta_obj)>0.06\n",
    "# slice_3d(delta_obj, cmap='bwr',vmin=-np.max(delta_obj), vmax=np.max(delta_obj))\n",
    "slice_3d(mask_pks_strict)\n",
    "# ([delta_obj,mask_pks_filt],rows=1, cols=2)\n"
   ]
  },
  {
   "cell_type": "code",
   "execution_count": null,
   "id": "2829f668-126e-4bf5-b594-77e196430933",
   "metadata": {
    "tags": []
   },
   "outputs": [],
   "source": [
    "bins = np.logspace(-6,0,100)\n",
    "bins = np.concatenate([[0], bins])\n",
    "plt.figure()\n",
    "plt.hist(delta_obj.flatten(),bins=bins)\n",
    "plt.axvline(strict, label=\"narrow\", color=\"r\")\n",
    "plt.axvline(lax, label=\"wide\", color='g')\n",
    "plt.legend()\n",
    "plt.xscale('log')\n",
    "plt.yscale('log')\n",
    "plt.xlabel(r\"Value Distribution $\\Delta \\rho$\")\n",
    "plt.ylabel(\"Frequency\")"
   ]
  },
  {
   "cell_type": "code",
   "execution_count": null,
   "id": "673e56f0-43c8-4eda-bcc5-0dc78b3dda41",
   "metadata": {
    "tags": []
   },
   "outputs": [],
   "source": [
    "alpha_xtrs = np.linspace(5e-2,1,50 )\n",
    "\n",
    "f_xtrs = make_f_xtr(alpha_xtrs, f_dark, f_light, np.angle(f_dark),  version=1, noise_level=0)\n",
    "mean_local_strict, mean_global_strict = pandda(f_dark, f_xtrs, mask_pks)\n",
    "mean_local_lax, mean_global_lax = pandda(f_dark, f_xtrs, mask_pks_lax)\n"
   ]
  },
  {
   "cell_type": "code",
   "execution_count": null,
   "id": "e2c928e8-af54-4e46-b17a-c29b566576ab",
   "metadata": {
    "tags": []
   },
   "outputs": [],
   "source": [
    "mean_local, mean_global =  mean_local_strict, mean_global_strict\n",
    "# mean_local, mean_global =  mean_local_lax, mean_global_lax\n",
    "ml = [mean_local_strict, mean_local_lax]\n",
    "mg = [mean_global_strict, mean_global_lax]\n",
    "titles = [\"narrow mask\", \"wide mask\"]\n",
    "\n",
    "fig, axso = plt.subplots(3,2)\n",
    "for axs, mean_local, mean_global, title in zip(axso.T, ml, mg, titles):\n",
    "    ax = axs[0]\n",
    "    ax.set_title(title)\n",
    "    ax.axvline(alpha,c=\"k\", linestyle=\"-.\", )\n",
    "    ax.plot(alpha_xtrs,+mean_global-mean_local, label=\"global-local\") \n",
    "    ax.legend()\n",
    "    ax = axs[1]\n",
    "    ax.axvline(alpha,c=\"k\", linestyle=\"-.\", )\n",
    "    ax.axhline(0,c=\"k\", linestyle=\"--\")\n",
    "    ax.plot(alpha_xtrs,mean_local, label=\"local\") \n",
    "    ax.plot(alpha_xtrs, mean_global,label=\"global\")\n",
    "    ax.legend()\n",
    "    ax = axs[2]\n",
    "    # ax.axvline(alpha/2,c=\"k\", linestyle=\"-\", label=\"1/2*alpha_true\")\n",
    "    ax.axvline(alpha,c=\"k\", linestyle=\"-.\", label=\"alpha_true\")\n",
    "    # ax.axvline(alpha*2,c=\"k\", linestyle=\"--\", label=\"2*alpha_true\")\n",
    "    ax.plot(alpha_xtrs,+np.gradient(mean_global-mean_local), label=\"global-local\") \n",
    "    ax.legend()\n",
    "\n",
    "fig.suptitle(\"PanDDA method\")\n",
    "loc = plotfolder+fname_variant(variant)\n",
    "fig.savefig(loc + \"_pandda.png\")"
   ]
  },
  {
   "cell_type": "markdown",
   "id": "8593bd8a-cf07-4e52-8285-53e33686f8f3",
   "metadata": {},
   "source": [
    "Here, too, results look better for the case of noise. Weird. That is assuming one knows the most crucial regions of change.\n",
    "\n",
    "Also, here it is far from 0 correlation at the correct occupancy. This makes the underlying assumption motivation seam rather brittle."
   ]
  },
  {
   "cell_type": "code",
   "execution_count": null,
   "id": "11edd805-731e-444b-8055-859f2659bfbb",
   "metadata": {},
   "outputs": [],
   "source": [
    "pk_strict = alpha_xtrs[np.argmax(mean_global_strict-mean_local_strict)]\n",
    "pk_lax = alpha_xtrs[np.argmax(mean_global_lax-mean_local_lax)]\n",
    "\n",
    "alpha_xtrs_vis = np.array([alpha,pk_lax, pk_strict])\n",
    "f_xtrs = make_f_xtr(alpha_xtrs_vis, f_dark, f_light, np.angle(f_dark),  version=1, noise_level=0)\n",
    "dens_xtrs, neg_sum = marius(f_xtrs)\n",
    "\n",
    "direct_comp(\n",
    "    dens_xtrs,\n",
    "    alpha_xtrs_vis,\n",
    "    obj0,\n",
    "    obj1,\n",
    "    version=\"only\",\n",
    "    variant=variant,\n",
    "    idx=48,\n",
    "    make_gif = False\n",
    ") \n"
   ]
  },
  {
   "cell_type": "code",
   "execution_count": null,
   "id": "19455e4b-bbad-4fd0-b21b-d4b3693bcf16",
   "metadata": {},
   "outputs": [],
   "source": []
  },
  {
   "cell_type": "code",
   "execution_count": null,
   "id": "49c28bd6-911e-4913-928d-5ef47a29ce31",
   "metadata": {},
   "outputs": [],
   "source": []
  }
 ],
 "metadata": {
  "kernelspec": {
   "display_name": "Python (fml)",
   "language": "python",
   "name": "fml"
  },
  "language_info": {
   "codemirror_mode": {
    "name": "ipython",
    "version": 3
   },
   "file_extension": ".py",
   "mimetype": "text/x-python",
   "name": "python",
   "nbconvert_exporter": "python",
   "pygments_lexer": "ipython3",
   "version": "3.13.3"
  }
 },
 "nbformat": 4,
 "nbformat_minor": 5
}
